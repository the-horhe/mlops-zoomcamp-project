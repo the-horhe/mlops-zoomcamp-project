{
 "cells": [
  {
   "cell_type": "markdown",
   "id": "579117b2-ff84-4fab-b9ad-8c1c6a5f3f45",
   "metadata": {},
   "source": [
    "# Initial data exploration notebook"
   ]
  },
  {
   "cell_type": "code",
   "execution_count": 112,
   "id": "4098a54f-c104-4234-b23f-1c8933cf5c3f",
   "metadata": {},
   "outputs": [],
   "source": [
    "import pandas as pd\n",
    "import matplotlib.pyplot as plt"
   ]
  },
  {
   "cell_type": "code",
   "execution_count": 113,
   "id": "38c6ed08-23ed-4969-934c-6644dc7f43f5",
   "metadata": {},
   "outputs": [],
   "source": [
    "from sklearn.model_selection import train_test_split\n",
    "from sklearn.linear_model import LinearRegression\n",
    "from sklearn.metrics import mean_squared_error, root_mean_squared_error\n"
   ]
  },
  {
   "cell_type": "code",
   "execution_count": 114,
   "id": "abb1b569-1b43-4357-9790-d86ef446c6bf",
   "metadata": {},
   "outputs": [],
   "source": [
    "import mlflow\n",
    "\n",
    "mlflow.set_tracking_uri(\"http://127.0.0.1:5000\")"
   ]
  },
  {
   "cell_type": "code",
   "execution_count": 218,
   "id": "e712e7fa-bb90-4676-ad50-179311236318",
   "metadata": {},
   "outputs": [],
   "source": [
    "# You can search you own location here: \n",
    "# https://www.ncei.noaa.gov/access/search/data-search/daily-summaries?stations=SP000008181\n",
    "# Keep in mind that notebook expects only one station in file\n",
    "\n",
    "data_url = 'https://www.ncei.noaa.gov/data/daily-summaries/access/SP000008181.csv'\n",
    "df = pd.read_csv(data_url, low_memory=False)\n",
    "data_tags = {'location_names': list(df.NAME.unique())}"
   ]
  },
  {
   "cell_type": "code",
   "execution_count": 208,
   "id": "a546f874-a4d2-4092-964a-363b7ec1c5b0",
   "metadata": {},
   "outputs": [
    {
     "data": {
      "text/html": [
       "<div>\n",
       "<style scoped>\n",
       "    .dataframe tbody tr th:only-of-type {\n",
       "        vertical-align: middle;\n",
       "    }\n",
       "\n",
       "    .dataframe tbody tr th {\n",
       "        vertical-align: top;\n",
       "    }\n",
       "\n",
       "    .dataframe thead th {\n",
       "        text-align: right;\n",
       "    }\n",
       "</style>\n",
       "<table border=\"1\" class=\"dataframe\">\n",
       "  <thead>\n",
       "    <tr style=\"text-align: right;\">\n",
       "      <th></th>\n",
       "      <th>STATION</th>\n",
       "      <th>DATE</th>\n",
       "      <th>LATITUDE</th>\n",
       "      <th>LONGITUDE</th>\n",
       "      <th>ELEVATION</th>\n",
       "      <th>NAME</th>\n",
       "      <th>PRCP</th>\n",
       "      <th>PRCP_ATTRIBUTES</th>\n",
       "      <th>SNWD</th>\n",
       "      <th>SNWD_ATTRIBUTES</th>\n",
       "      <th>TMAX</th>\n",
       "      <th>TMAX_ATTRIBUTES</th>\n",
       "      <th>TMIN</th>\n",
       "      <th>TMIN_ATTRIBUTES</th>\n",
       "      <th>TAVG</th>\n",
       "      <th>TAVG_ATTRIBUTES</th>\n",
       "    </tr>\n",
       "  </thead>\n",
       "  <tbody>\n",
       "    <tr>\n",
       "      <th>0</th>\n",
       "      <td>SP000008181</td>\n",
       "      <td>1924-03-01</td>\n",
       "      <td>41.2928</td>\n",
       "      <td>2.0697</td>\n",
       "      <td>4.0</td>\n",
       "      <td>BARCELONA AEROPUERTO, SP</td>\n",
       "      <td>0.0</td>\n",
       "      <td>,,E</td>\n",
       "      <td>NaN</td>\n",
       "      <td>NaN</td>\n",
       "      <td>120.0</td>\n",
       "      <td>,,E</td>\n",
       "      <td>10.0</td>\n",
       "      <td>,,E</td>\n",
       "      <td>NaN</td>\n",
       "      <td>NaN</td>\n",
       "    </tr>\n",
       "    <tr>\n",
       "      <th>1</th>\n",
       "      <td>SP000008181</td>\n",
       "      <td>1924-03-02</td>\n",
       "      <td>41.2928</td>\n",
       "      <td>2.0697</td>\n",
       "      <td>4.0</td>\n",
       "      <td>BARCELONA AEROPUERTO, SP</td>\n",
       "      <td>0.0</td>\n",
       "      <td>,,E</td>\n",
       "      <td>NaN</td>\n",
       "      <td>NaN</td>\n",
       "      <td>120.0</td>\n",
       "      <td>,,E</td>\n",
       "      <td>20.0</td>\n",
       "      <td>,,E</td>\n",
       "      <td>NaN</td>\n",
       "      <td>NaN</td>\n",
       "    </tr>\n",
       "  </tbody>\n",
       "</table>\n",
       "</div>"
      ],
      "text/plain": [
       "       STATION        DATE  LATITUDE  LONGITUDE  ELEVATION  \\\n",
       "0  SP000008181  1924-03-01   41.2928     2.0697        4.0   \n",
       "1  SP000008181  1924-03-02   41.2928     2.0697        4.0   \n",
       "\n",
       "                       NAME  PRCP PRCP_ATTRIBUTES  SNWD SNWD_ATTRIBUTES  \\\n",
       "0  BARCELONA AEROPUERTO, SP   0.0             ,,E   NaN             NaN   \n",
       "1  BARCELONA AEROPUERTO, SP   0.0             ,,E   NaN             NaN   \n",
       "\n",
       "    TMAX TMAX_ATTRIBUTES  TMIN TMIN_ATTRIBUTES  TAVG TAVG_ATTRIBUTES  \n",
       "0  120.0             ,,E  10.0             ,,E   NaN             NaN  \n",
       "1  120.0             ,,E  20.0             ,,E   NaN             NaN  "
      ]
     },
     "execution_count": 208,
     "metadata": {},
     "output_type": "execute_result"
    }
   ],
   "source": [
    "df.head(2)"
   ]
  },
  {
   "cell_type": "code",
   "execution_count": 219,
   "id": "a4e86952-cfb6-4d70-b3ab-3e10181191e6",
   "metadata": {},
   "outputs": [
    {
     "data": {
      "text/plain": [
       "STATION             object\n",
       "DATE                object\n",
       "LATITUDE           float64\n",
       "LONGITUDE          float64\n",
       "ELEVATION          float64\n",
       "NAME                object\n",
       "PRCP               float64\n",
       "PRCP_ATTRIBUTES     object\n",
       "SNWD               float64\n",
       "SNWD_ATTRIBUTES     object\n",
       "TMAX               float64\n",
       "TMAX_ATTRIBUTES     object\n",
       "TMIN               float64\n",
       "TMIN_ATTRIBUTES     object\n",
       "TAVG               float64\n",
       "TAVG_ATTRIBUTES     object\n",
       "dtype: object"
      ]
     },
     "execution_count": 219,
     "metadata": {},
     "output_type": "execute_result"
    }
   ],
   "source": [
    "df.dtypes"
   ]
  },
  {
   "cell_type": "code",
   "execution_count": 220,
   "id": "2afa84e8-89c7-4a95-a7f3-7a04e216adf7",
   "metadata": {},
   "outputs": [
    {
     "data": {
      "text/html": [
       "<div>\n",
       "<style scoped>\n",
       "    .dataframe tbody tr th:only-of-type {\n",
       "        vertical-align: middle;\n",
       "    }\n",
       "\n",
       "    .dataframe tbody tr th {\n",
       "        vertical-align: top;\n",
       "    }\n",
       "\n",
       "    .dataframe thead th {\n",
       "        text-align: right;\n",
       "    }\n",
       "</style>\n",
       "<table border=\"1\" class=\"dataframe\">\n",
       "  <thead>\n",
       "    <tr style=\"text-align: right;\">\n",
       "      <th></th>\n",
       "      <th>LATITUDE</th>\n",
       "      <th>LONGITUDE</th>\n",
       "      <th>ELEVATION</th>\n",
       "      <th>PRCP</th>\n",
       "      <th>SNWD</th>\n",
       "      <th>TMAX</th>\n",
       "      <th>TMIN</th>\n",
       "      <th>TAVG</th>\n",
       "    </tr>\n",
       "  </thead>\n",
       "  <tbody>\n",
       "    <tr>\n",
       "      <th>count</th>\n",
       "      <td>3.468700e+04</td>\n",
       "      <td>3.468700e+04</td>\n",
       "      <td>34687.0</td>\n",
       "      <td>34396.000000</td>\n",
       "      <td>2.000000</td>\n",
       "      <td>30738.000000</td>\n",
       "      <td>30556.000000</td>\n",
       "      <td>18814.000000</td>\n",
       "    </tr>\n",
       "    <tr>\n",
       "      <th>mean</th>\n",
       "      <td>4.129280e+01</td>\n",
       "      <td>2.069700e+00</td>\n",
       "      <td>4.0</td>\n",
       "      <td>15.543552</td>\n",
       "      <td>430.500000</td>\n",
       "      <td>203.847778</td>\n",
       "      <td>118.305963</td>\n",
       "      <td>160.422558</td>\n",
       "    </tr>\n",
       "    <tr>\n",
       "      <th>std</th>\n",
       "      <td>1.421106e-14</td>\n",
       "      <td>4.440956e-16</td>\n",
       "      <td>0.0</td>\n",
       "      <td>66.926721</td>\n",
       "      <td>580.534667</td>\n",
       "      <td>58.619100</td>\n",
       "      <td>60.532245</td>\n",
       "      <td>59.634623</td>\n",
       "    </tr>\n",
       "    <tr>\n",
       "      <th>min</th>\n",
       "      <td>4.129280e+01</td>\n",
       "      <td>2.069700e+00</td>\n",
       "      <td>4.0</td>\n",
       "      <td>0.000000</td>\n",
       "      <td>20.000000</td>\n",
       "      <td>0.000000</td>\n",
       "      <td>-80.000000</td>\n",
       "      <td>-21.000000</td>\n",
       "    </tr>\n",
       "    <tr>\n",
       "      <th>25%</th>\n",
       "      <td>4.129280e+01</td>\n",
       "      <td>2.069700e+00</td>\n",
       "      <td>4.0</td>\n",
       "      <td>0.000000</td>\n",
       "      <td>225.250000</td>\n",
       "      <td>156.000000</td>\n",
       "      <td>70.000000</td>\n",
       "      <td>112.000000</td>\n",
       "    </tr>\n",
       "    <tr>\n",
       "      <th>50%</th>\n",
       "      <td>4.129280e+01</td>\n",
       "      <td>2.069700e+00</td>\n",
       "      <td>4.0</td>\n",
       "      <td>0.000000</td>\n",
       "      <td>430.500000</td>\n",
       "      <td>200.000000</td>\n",
       "      <td>115.000000</td>\n",
       "      <td>154.000000</td>\n",
       "    </tr>\n",
       "    <tr>\n",
       "      <th>75%</th>\n",
       "      <td>4.129280e+01</td>\n",
       "      <td>2.069700e+00</td>\n",
       "      <td>4.0</td>\n",
       "      <td>0.000000</td>\n",
       "      <td>635.750000</td>\n",
       "      <td>254.000000</td>\n",
       "      <td>170.000000</td>\n",
       "      <td>213.000000</td>\n",
       "    </tr>\n",
       "    <tr>\n",
       "      <th>max</th>\n",
       "      <td>4.129280e+01</td>\n",
       "      <td>2.069700e+00</td>\n",
       "      <td>4.0</td>\n",
       "      <td>1867.000000</td>\n",
       "      <td>841.000000</td>\n",
       "      <td>374.000000</td>\n",
       "      <td>273.000000</td>\n",
       "      <td>303.000000</td>\n",
       "    </tr>\n",
       "  </tbody>\n",
       "</table>\n",
       "</div>"
      ],
      "text/plain": [
       "           LATITUDE     LONGITUDE  ELEVATION          PRCP        SNWD  \\\n",
       "count  3.468700e+04  3.468700e+04    34687.0  34396.000000    2.000000   \n",
       "mean   4.129280e+01  2.069700e+00        4.0     15.543552  430.500000   \n",
       "std    1.421106e-14  4.440956e-16        0.0     66.926721  580.534667   \n",
       "min    4.129280e+01  2.069700e+00        4.0      0.000000   20.000000   \n",
       "25%    4.129280e+01  2.069700e+00        4.0      0.000000  225.250000   \n",
       "50%    4.129280e+01  2.069700e+00        4.0      0.000000  430.500000   \n",
       "75%    4.129280e+01  2.069700e+00        4.0      0.000000  635.750000   \n",
       "max    4.129280e+01  2.069700e+00        4.0   1867.000000  841.000000   \n",
       "\n",
       "               TMAX          TMIN          TAVG  \n",
       "count  30738.000000  30556.000000  18814.000000  \n",
       "mean     203.847778    118.305963    160.422558  \n",
       "std       58.619100     60.532245     59.634623  \n",
       "min        0.000000    -80.000000    -21.000000  \n",
       "25%      156.000000     70.000000    112.000000  \n",
       "50%      200.000000    115.000000    154.000000  \n",
       "75%      254.000000    170.000000    213.000000  \n",
       "max      374.000000    273.000000    303.000000  "
      ]
     },
     "execution_count": 220,
     "metadata": {},
     "output_type": "execute_result"
    }
   ],
   "source": [
    "df.describe()"
   ]
  },
  {
   "cell_type": "code",
   "execution_count": 221,
   "id": "7045dc25-c206-42cb-b39f-df3ea43eaf47",
   "metadata": {},
   "outputs": [],
   "source": [
    "# prepare dataset\n",
    "df = df[[\"DATE\", \"PRCP\"]]\n",
    "df[\"DATE\"] = pd.to_datetime(df[\"DATE\"])"
   ]
  },
  {
   "cell_type": "code",
   "execution_count": 210,
   "id": "f7a659cd-4ffe-490c-b26e-aa99d4589114",
   "metadata": {
    "scrolled": true
   },
   "outputs": [
    {
     "data": {
      "text/plain": [
       "DATE    datetime64[ns]\n",
       "PRCP           float64\n",
       "dtype: object"
      ]
     },
     "execution_count": 210,
     "metadata": {},
     "output_type": "execute_result"
    }
   ],
   "source": [
    "df.dtypes"
   ]
  },
  {
   "cell_type": "code",
   "execution_count": 222,
   "id": "9cfc8614-0969-45b2-9b0f-9013f6174b9a",
   "metadata": {
    "scrolled": true
   },
   "outputs": [
    {
     "data": {
      "text/plain": [
       "<Axes: >"
      ]
     },
     "execution_count": 222,
     "metadata": {},
     "output_type": "execute_result"
    },
    {
     "data": {
      "image/png": "[encoded data removed]",
      "text/plain": [
       "<Figure size 640x480 with 1 Axes>"
      ]
     },
     "metadata": {},
     "output_type": "display_data"
    }
   ],
   "source": [
    "df.PRCP.hist(bins=50)"
   ]
  },
  {
   "cell_type": "code",
   "execution_count": 224,
   "id": "4aee7af5-cb91-4786-aa2e-d56f2a351f3c",
   "metadata": {},
   "outputs": [
    {
     "data": {
      "text/plain": [
       "1867.0"
      ]
     },
     "execution_count": 224,
     "metadata": {},
     "output_type": "execute_result"
    }
   ],
   "source": [
    "df.PRCP.max()"
   ]
  },
  {
   "cell_type": "code",
   "execution_count": 225,
   "id": "b3421ecc-b115-424a-829c-3076f4f9e3e4",
   "metadata": {},
   "outputs": [
    {
     "data": {
      "text/plain": [
       "[<matplotlib.lines.Line2D at 0x7f95d086f790>]"
      ]
     },
     "execution_count": 225,
     "metadata": {},
     "output_type": "execute_result"
    },
    {
     "data": {
      "image/png": "[encoded data removed]",
      "text/plain": [
       "<Figure size 640x480 with 1 Axes>"
      ]
     },
     "metadata": {},
     "output_type": "display_data"
    }
   ],
   "source": [
    "fig, ax = plt.subplots()\n",
    "ax.plot(df[\"DATE\"], df[\"PRCP\"])"
   ]
  },
  {
   "cell_type": "code",
   "execution_count": 226,
   "id": "b787dda2-2bb9-42d5-9bad-d3f428ccfb79",
   "metadata": {},
   "outputs": [],
   "source": [
    "df2 = df[(df[\"DATE\"] > \"1935-01-01\") & (df[\"DATE\"] < \"1940-01-01\")]"
   ]
  },
  {
   "cell_type": "code",
   "execution_count": 227,
   "id": "340e522a-f00b-4593-a38c-f51abaaffdaa",
   "metadata": {},
   "outputs": [
    {
     "data": {
      "text/plain": [
       "[<matplotlib.lines.Line2D at 0x7f95d08c2b00>]"
      ]
     },
     "execution_count": 227,
     "metadata": {},
     "output_type": "execute_result"
    },
    {
     "data": {
      "image/png": "[encoded data removed]",
      "text/plain": [
       "<Figure size 640x480 with 1 Axes>"
      ]
     },
     "metadata": {},
     "output_type": "display_data"
    }
   ],
   "source": [
    "fig, ax = plt.subplots()\n",
    "ax.plot(df2[\"DATE\"], df2[\"PRCP\"])"
   ]
  },
  {
   "cell_type": "code",
   "execution_count": 228,
   "id": "185f6dc3-1748-4af9-99de-210ea967ac10",
   "metadata": {},
   "outputs": [
    {
     "data": {
      "text/plain": [
       "31095"
      ]
     },
     "metadata": {},
     "output_type": "display_data"
    },
    {
     "data": {
      "text/plain": [
       "31018"
      ]
     },
     "metadata": {},
     "output_type": "display_data"
    },
    {
     "data": {
      "text/html": [
       "<div>\n",
       "<style scoped>\n",
       "    .dataframe tbody tr th:only-of-type {\n",
       "        vertical-align: middle;\n",
       "    }\n",
       "\n",
       "    .dataframe tbody tr th {\n",
       "        vertical-align: top;\n",
       "    }\n",
       "\n",
       "    .dataframe thead th {\n",
       "        text-align: right;\n",
       "    }\n",
       "</style>\n",
       "<table border=\"1\" class=\"dataframe\">\n",
       "  <thead>\n",
       "    <tr style=\"text-align: right;\">\n",
       "      <th></th>\n",
       "      <th>DATE</th>\n",
       "      <th>PRCP</th>\n",
       "    </tr>\n",
       "  </thead>\n",
       "  <tbody>\n",
       "    <tr>\n",
       "      <th>3592</th>\n",
       "      <td>1939-06-01</td>\n",
       "      <td>0.0</td>\n",
       "    </tr>\n",
       "    <tr>\n",
       "      <th>3593</th>\n",
       "      <td>1939-06-02</td>\n",
       "      <td>0.0</td>\n",
       "    </tr>\n",
       "    <tr>\n",
       "      <th>3594</th>\n",
       "      <td>1939-06-03</td>\n",
       "      <td>0.0</td>\n",
       "    </tr>\n",
       "    <tr>\n",
       "      <th>3595</th>\n",
       "      <td>1939-06-04</td>\n",
       "      <td>0.0</td>\n",
       "    </tr>\n",
       "    <tr>\n",
       "      <th>3596</th>\n",
       "      <td>1939-06-05</td>\n",
       "      <td>55.0</td>\n",
       "    </tr>\n",
       "    <tr>\n",
       "      <th>...</th>\n",
       "      <td>...</td>\n",
       "      <td>...</td>\n",
       "    </tr>\n",
       "    <tr>\n",
       "      <th>34668</th>\n",
       "      <td>2024-06-30</td>\n",
       "      <td>0.0</td>\n",
       "    </tr>\n",
       "    <tr>\n",
       "      <th>34670</th>\n",
       "      <td>2024-07-02</td>\n",
       "      <td>244.0</td>\n",
       "    </tr>\n",
       "    <tr>\n",
       "      <th>34671</th>\n",
       "      <td>2024-07-03</td>\n",
       "      <td>0.0</td>\n",
       "    </tr>\n",
       "    <tr>\n",
       "      <th>34681</th>\n",
       "      <td>2024-07-13</td>\n",
       "      <td>3.0</td>\n",
       "    </tr>\n",
       "    <tr>\n",
       "      <th>34682</th>\n",
       "      <td>2024-07-14</td>\n",
       "      <td>0.0</td>\n",
       "    </tr>\n",
       "  </tbody>\n",
       "</table>\n",
       "<p>31018 rows × 2 columns</p>\n",
       "</div>"
      ],
      "text/plain": [
       "            DATE   PRCP\n",
       "3592  1939-06-01    0.0\n",
       "3593  1939-06-02    0.0\n",
       "3594  1939-06-03    0.0\n",
       "3595  1939-06-04    0.0\n",
       "3596  1939-06-05   55.0\n",
       "...          ...    ...\n",
       "34668 2024-06-30    0.0\n",
       "34670 2024-07-02  244.0\n",
       "34671 2024-07-03    0.0\n",
       "34681 2024-07-13    3.0\n",
       "34682 2024-07-14    0.0\n",
       "\n",
       "[31018 rows x 2 columns]"
      ]
     },
     "execution_count": 228,
     "metadata": {},
     "output_type": "execute_result"
    }
   ],
   "source": [
    "# There is big gap in data in 1939-1938 year\n",
    "df_clean = df[(df[\"DATE\"] > \"1939-01-01\")].copy()\n",
    "display(len(df_clean))\n",
    "df_clean.dropna(inplace=True)\n",
    "display(len(df_clean))\n",
    "df_clean"
   ]
  },
  {
   "cell_type": "markdown",
   "id": "cfcbd85d-0be5-49a0-9e52-0d876a207aea",
   "metadata": {},
   "source": [
    "### Prepare data"
   ]
  },
  {
   "cell_type": "code",
   "execution_count": 241,
   "id": "bda1e2eb-8e1c-4863-8c2f-de8ae24df29e",
   "metadata": {},
   "outputs": [],
   "source": [
    "# We will try to use lin reg to predict precipitation level\n",
    "# based on previous values. It's very naive approach, but might be a good baseline.\n",
    "\n",
    "df_clean['lag_1'] = df_clean['PRCP'].shift(1)\n",
    "df_clean['lag_7'] = df_clean['PRCP'].shift(7)\n",
    "df_clean['lag_30'] = df_clean['PRCP'].shift(30)\n",
    "df_clean['lag_365'] = df_clean['PRCP'].shift(365)\n",
    "df_clean['rolling_mean_7'] = df_clean['PRCP'].rolling(window=7).mean()\n",
    "df_clean['rolling_std_7'] = df_clean['PRCP'].rolling(window=7).std()\n",
    "df_clean['rolling_mean_30'] = df_clean['PRCP'].rolling(window=30).mean()\n",
    "df_clean['rolling_std_30'] = df_clean['PRCP'].rolling(window=30).std()\n",
    "\n",
    "# dropna againg\n",
    "df_clean.dropna(inplace=True)"
   ]
  },
  {
   "cell_type": "code",
   "execution_count": 230,
   "id": "dcebe7b1-5f6d-464f-933f-a0f261b4222d",
   "metadata": {},
   "outputs": [
    {
     "data": {
      "text/plain": [
       "30653"
      ]
     },
     "metadata": {},
     "output_type": "display_data"
    },
    {
     "data": {
      "text/html": [
       "<div>\n",
       "<style scoped>\n",
       "    .dataframe tbody tr th:only-of-type {\n",
       "        vertical-align: middle;\n",
       "    }\n",
       "\n",
       "    .dataframe tbody tr th {\n",
       "        vertical-align: top;\n",
       "    }\n",
       "\n",
       "    .dataframe thead th {\n",
       "        text-align: right;\n",
       "    }\n",
       "</style>\n",
       "<table border=\"1\" class=\"dataframe\">\n",
       "  <thead>\n",
       "    <tr style=\"text-align: right;\">\n",
       "      <th></th>\n",
       "      <th>DATE</th>\n",
       "      <th>PRCP</th>\n",
       "      <th>lag_1</th>\n",
       "      <th>lag_7</th>\n",
       "      <th>lag_30</th>\n",
       "      <th>lag_365</th>\n",
       "      <th>rolling_mean_7</th>\n",
       "      <th>rolling_std_7</th>\n",
       "      <th>rolling_mean_30</th>\n",
       "      <th>rolling_std_30</th>\n",
       "    </tr>\n",
       "  </thead>\n",
       "  <tbody>\n",
       "    <tr>\n",
       "      <th>3957</th>\n",
       "      <td>1940-05-31</td>\n",
       "      <td>0.0</td>\n",
       "      <td>20.0</td>\n",
       "      <td>0.0</td>\n",
       "      <td>10.0</td>\n",
       "      <td>0.0</td>\n",
       "      <td>15.000000</td>\n",
       "      <td>31.754265</td>\n",
       "      <td>9.166667</td>\n",
       "      <td>22.708169</td>\n",
       "    </tr>\n",
       "    <tr>\n",
       "      <th>3958</th>\n",
       "      <td>1940-06-01</td>\n",
       "      <td>0.0</td>\n",
       "      <td>0.0</td>\n",
       "      <td>0.0</td>\n",
       "      <td>0.0</td>\n",
       "      <td>0.0</td>\n",
       "      <td>15.000000</td>\n",
       "      <td>31.754265</td>\n",
       "      <td>9.166667</td>\n",
       "      <td>22.708169</td>\n",
       "    </tr>\n",
       "    <tr>\n",
       "      <th>3959</th>\n",
       "      <td>1940-06-02</td>\n",
       "      <td>0.0</td>\n",
       "      <td>0.0</td>\n",
       "      <td>0.0</td>\n",
       "      <td>0.0</td>\n",
       "      <td>0.0</td>\n",
       "      <td>15.000000</td>\n",
       "      <td>31.754265</td>\n",
       "      <td>9.166667</td>\n",
       "      <td>22.708169</td>\n",
       "    </tr>\n",
       "    <tr>\n",
       "      <th>3960</th>\n",
       "      <td>1940-06-03</td>\n",
       "      <td>0.0</td>\n",
       "      <td>0.0</td>\n",
       "      <td>0.0</td>\n",
       "      <td>15.0</td>\n",
       "      <td>0.0</td>\n",
       "      <td>15.000000</td>\n",
       "      <td>31.754265</td>\n",
       "      <td>8.666667</td>\n",
       "      <td>22.740414</td>\n",
       "    </tr>\n",
       "    <tr>\n",
       "      <th>3961</th>\n",
       "      <td>1940-06-04</td>\n",
       "      <td>0.0</td>\n",
       "      <td>0.0</td>\n",
       "      <td>0.0</td>\n",
       "      <td>0.0</td>\n",
       "      <td>55.0</td>\n",
       "      <td>15.000000</td>\n",
       "      <td>31.754265</td>\n",
       "      <td>8.666667</td>\n",
       "      <td>22.740414</td>\n",
       "    </tr>\n",
       "    <tr>\n",
       "      <th>...</th>\n",
       "      <td>...</td>\n",
       "      <td>...</td>\n",
       "      <td>...</td>\n",
       "      <td>...</td>\n",
       "      <td>...</td>\n",
       "      <td>...</td>\n",
       "      <td>...</td>\n",
       "      <td>...</td>\n",
       "      <td>...</td>\n",
       "      <td>...</td>\n",
       "    </tr>\n",
       "    <tr>\n",
       "      <th>34668</th>\n",
       "      <td>2024-06-30</td>\n",
       "      <td>0.0</td>\n",
       "      <td>3.0</td>\n",
       "      <td>58.0</td>\n",
       "      <td>10.0</td>\n",
       "      <td>0.0</td>\n",
       "      <td>3.000000</td>\n",
       "      <td>3.651484</td>\n",
       "      <td>21.400000</td>\n",
       "      <td>57.573102</td>\n",
       "    </tr>\n",
       "    <tr>\n",
       "      <th>34670</th>\n",
       "      <td>2024-07-02</td>\n",
       "      <td>244.0</td>\n",
       "      <td>0.0</td>\n",
       "      <td>5.0</td>\n",
       "      <td>20.0</td>\n",
       "      <td>0.0</td>\n",
       "      <td>37.142857</td>\n",
       "      <td>91.284224</td>\n",
       "      <td>28.866667</td>\n",
       "      <td>70.466785</td>\n",
       "    </tr>\n",
       "    <tr>\n",
       "      <th>34671</th>\n",
       "      <td>2024-07-03</td>\n",
       "      <td>0.0</td>\n",
       "      <td>244.0</td>\n",
       "      <td>0.0</td>\n",
       "      <td>0.0</td>\n",
       "      <td>7.0</td>\n",
       "      <td>37.142857</td>\n",
       "      <td>91.284224</td>\n",
       "      <td>28.866667</td>\n",
       "      <td>70.466785</td>\n",
       "    </tr>\n",
       "    <tr>\n",
       "      <th>34681</th>\n",
       "      <td>2024-07-13</td>\n",
       "      <td>3.0</td>\n",
       "      <td>0.0</td>\n",
       "      <td>10.0</td>\n",
       "      <td>0.0</td>\n",
       "      <td>0.0</td>\n",
       "      <td>36.142857</td>\n",
       "      <td>91.668658</td>\n",
       "      <td>28.966667</td>\n",
       "      <td>70.426525</td>\n",
       "    </tr>\n",
       "    <tr>\n",
       "      <th>34682</th>\n",
       "      <td>2024-07-14</td>\n",
       "      <td>0.0</td>\n",
       "      <td>3.0</td>\n",
       "      <td>3.0</td>\n",
       "      <td>0.0</td>\n",
       "      <td>0.0</td>\n",
       "      <td>35.714286</td>\n",
       "      <td>91.856254</td>\n",
       "      <td>28.966667</td>\n",
       "      <td>70.426525</td>\n",
       "    </tr>\n",
       "  </tbody>\n",
       "</table>\n",
       "<p>30653 rows × 10 columns</p>\n",
       "</div>"
      ],
      "text/plain": [
       "            DATE   PRCP  lag_1  lag_7  lag_30  lag_365  rolling_mean_7  \\\n",
       "3957  1940-05-31    0.0   20.0    0.0    10.0      0.0       15.000000   \n",
       "3958  1940-06-01    0.0    0.0    0.0     0.0      0.0       15.000000   \n",
       "3959  1940-06-02    0.0    0.0    0.0     0.0      0.0       15.000000   \n",
       "3960  1940-06-03    0.0    0.0    0.0    15.0      0.0       15.000000   \n",
       "3961  1940-06-04    0.0    0.0    0.0     0.0     55.0       15.000000   \n",
       "...          ...    ...    ...    ...     ...      ...             ...   \n",
       "34668 2024-06-30    0.0    3.0   58.0    10.0      0.0        3.000000   \n",
       "34670 2024-07-02  244.0    0.0    5.0    20.0      0.0       37.142857   \n",
       "34671 2024-07-03    0.0  244.0    0.0     0.0      7.0       37.142857   \n",
       "34681 2024-07-13    3.0    0.0   10.0     0.0      0.0       36.142857   \n",
       "34682 2024-07-14    0.0    3.0    3.0     0.0      0.0       35.714286   \n",
       "\n",
       "       rolling_std_7  rolling_mean_30  rolling_std_30  \n",
       "3957       31.754265         9.166667       22.708169  \n",
       "3958       31.754265         9.166667       22.708169  \n",
       "3959       31.754265         9.166667       22.708169  \n",
       "3960       31.754265         8.666667       22.740414  \n",
       "3961       31.754265         8.666667       22.740414  \n",
       "...              ...              ...             ...  \n",
       "34668       3.651484        21.400000       57.573102  \n",
       "34670      91.284224        28.866667       70.466785  \n",
       "34671      91.284224        28.866667       70.466785  \n",
       "34681      91.668658        28.966667       70.426525  \n",
       "34682      91.856254        28.966667       70.426525  \n",
       "\n",
       "[30653 rows x 10 columns]"
      ]
     },
     "execution_count": 230,
     "metadata": {},
     "output_type": "execute_result"
    }
   ],
   "source": [
    "display(len(df_clean))\n",
    "df_clean"
   ]
  },
  {
   "cell_type": "code",
   "execution_count": 242,
   "id": "1fa1e3e0-b068-446a-9176-aecca3085cda",
   "metadata": {},
   "outputs": [
    {
     "data": {
      "text/html": [
       "<div>\n",
       "<style scoped>\n",
       "    .dataframe tbody tr th:only-of-type {\n",
       "        vertical-align: middle;\n",
       "    }\n",
       "\n",
       "    .dataframe tbody tr th {\n",
       "        vertical-align: top;\n",
       "    }\n",
       "\n",
       "    .dataframe thead th {\n",
       "        text-align: right;\n",
       "    }\n",
       "</style>\n",
       "<table border=\"1\" class=\"dataframe\">\n",
       "  <thead>\n",
       "    <tr style=\"text-align: right;\">\n",
       "      <th></th>\n",
       "      <th>lag_365</th>\n",
       "    </tr>\n",
       "  </thead>\n",
       "  <tbody>\n",
       "    <tr>\n",
       "      <th>28561</th>\n",
       "      <td>213.0</td>\n",
       "    </tr>\n",
       "    <tr>\n",
       "      <th>28562</th>\n",
       "      <td>119.0</td>\n",
       "    </tr>\n",
       "    <tr>\n",
       "      <th>28563</th>\n",
       "      <td>0.0</td>\n",
       "    </tr>\n",
       "    <tr>\n",
       "      <th>28564</th>\n",
       "      <td>0.0</td>\n",
       "    </tr>\n",
       "    <tr>\n",
       "      <th>28565</th>\n",
       "      <td>0.0</td>\n",
       "    </tr>\n",
       "    <tr>\n",
       "      <th>28566</th>\n",
       "      <td>0.0</td>\n",
       "    </tr>\n",
       "    <tr>\n",
       "      <th>28567</th>\n",
       "      <td>4.0</td>\n",
       "    </tr>\n",
       "    <tr>\n",
       "      <th>28568</th>\n",
       "      <td>135.0</td>\n",
       "    </tr>\n",
       "    <tr>\n",
       "      <th>28569</th>\n",
       "      <td>0.0</td>\n",
       "    </tr>\n",
       "    <tr>\n",
       "      <th>28570</th>\n",
       "      <td>0.0</td>\n",
       "    </tr>\n",
       "  </tbody>\n",
       "</table>\n",
       "</div>"
      ],
      "text/plain": [
       "       lag_365\n",
       "28561    213.0\n",
       "28562    119.0\n",
       "28563      0.0\n",
       "28564      0.0\n",
       "28565      0.0\n",
       "28566      0.0\n",
       "28567      4.0\n",
       "28568    135.0\n",
       "28569      0.0\n",
       "28570      0.0"
      ]
     },
     "execution_count": 242,
     "metadata": {},
     "output_type": "execute_result"
    }
   ],
   "source": [
    "features = ['lag_1', 'lag_7', 'lag_30', 'lag_365', \n",
    "            'rolling_mean_7', 'rolling_std_7', 'rolling_mean_30', 'rolling_std_30']\n",
    "\n",
    "# To test different lag sets change values here\n",
    "# Year lag works ok and allows to predict up to 1 year in future\n",
    "features = ['lag_365']\n",
    "\n",
    "X = df_clean[features]\n",
    "y = df_clean['PRCP']\n",
    "\n",
    "X_train, X_test, y_train, y_test = train_test_split(X, y, test_size=0.2, random_state=42, shuffle=False)\n",
    "X_train.tail(10)\n"
   ]
  },
  {
   "cell_type": "markdown",
   "id": "09380a60-6ea0-49b1-bda5-5e0e169b9d83",
   "metadata": {},
   "source": [
    "### Model"
   ]
  },
  {
   "cell_type": "code",
   "execution_count": 240,
   "id": "9e44ddfa-3799-470f-b3f4-c926da027244",
   "metadata": {},
   "outputs": [
    {
     "name": "stdout",
     "output_type": "stream",
     "text": [
      "RMSE: 61.84702451849965\n"
     ]
    },
    {
     "name": "stderr",
     "output_type": "stream",
     "text": [
      "/home/horhe/.cache/pypoetry/virtualenvs/drought-prediction-DZCTact4-py3.10/lib/python3.10/site-packages/_distutils_hack/__init__.py:17: UserWarning: Distutils was imported before Setuptools, but importing Setuptools also replaces the `distutils` module in `sys.modules`. This may lead to undesirable behaviors or errors. To avoid these issues, avoid using distutils directly, ensure that setuptools is installed in the traditional way (e.g. not an editable install), and/or make sure that setuptools is always imported before distutils.\n",
      "  warnings.warn(\n",
      "/home/horhe/.cache/pypoetry/virtualenvs/drought-prediction-DZCTact4-py3.10/lib/python3.10/site-packages/_distutils_hack/__init__.py:32: UserWarning: Setuptools is replacing distutils. Support for replacing an already imported distutils is deprecated. In the future, this condition will fail. Register concerns at https://github.com/pypa/setuptools/issues/new?template=distutils-deprecation.yml\n",
      "  warnings.warn(\n"
     ]
    }
   ],
   "source": [
    "mlflow.set_experiment(\"weather-prediction-exp\")\n",
    "with mlflow.start_run():\n",
    "    mlflow.set_tags(data_tags)\n",
    "    \n",
    "    # Train model\n",
    "    model = LinearRegression()\n",
    "\n",
    "    mlflow.log_params({'features': features})\n",
    "    \n",
    "    \n",
    "    model.fit(X_train, y_train)\n",
    "\n",
    "    y_pred = model.predict(X_test)\n",
    "    rmse = root_mean_squared_error(y_test, y_pred)\n",
    "    mlflow.log_metric(\"RMSE\", rmse)\n",
    "    mlflow.sklearn.log_model(model, artifact_path='models')\n",
    "    \n",
    "    print(f'RMSE: {rmse}')"
   ]
  },
  {
   "cell_type": "code",
   "execution_count": 187,
   "id": "18c49b87-aa58-4557-9f9a-16af5a683e19",
   "metadata": {},
   "outputs": [
    {
     "data": {
      "text/plain": [
       "<NumpyExtensionArray>\n",
       "[ 51.0,  94.0,   0.0,   0.0,   0.0,   0.0,   0.0,   4.0,   0.0,   1.0,\n",
       " ...\n",
       "   0.0,  10.0,   3.0,   0.0,   3.0,   0.0, 244.0,   0.0,   3.0,   0.0]\n",
       "Length: 5985, dtype: float64"
      ]
     },
     "execution_count": 187,
     "metadata": {},
     "output_type": "execute_result"
    }
   ],
   "source": [
    "y_test.array"
   ]
  },
  {
   "cell_type": "code",
   "execution_count": 197,
   "id": "668bc5cf-35ea-44f3-90ed-99d834bbca16",
   "metadata": {
    "scrolled": true
   },
   "outputs": [
    {
     "data": {
      "image/png": "[encoded data removed]",
      "text/plain": [
       "<Figure size 640x480 with 1 Axes>"
      ]
     },
     "metadata": {},
     "output_type": "display_data"
    }
   ],
   "source": [
    "plt.plot(y_test.array) \n",
    "plt.plot(y_pred) \n",
    "plt.show()"
   ]
  },
  {
   "cell_type": "code",
   "execution_count": 243,
   "id": "a1b7c670-c810-497c-a7ed-7b2d73b9c79b",
   "metadata": {},
   "outputs": [],
   "source": [
    "data_url = 'https://www.ncei.noaa.gov/data/daily-summaries/access/SP000008181.csv'\n",
    "my_df = pd.read_csv(data_url, low_memory=False)\n"
   ]
  },
  {
   "cell_type": "code",
   "execution_count": 254,
   "id": "e33df731-baa2-4b42-8a71-b0209ef92648",
   "metadata": {},
   "outputs": [
    {
     "data": {
      "text/plain": [
       "['STATION',\n",
       " 'DATE',\n",
       " 'LATITUDE',\n",
       " 'LONGITUDE',\n",
       " 'ELEVATION',\n",
       " 'NAME',\n",
       " 'PRCP',\n",
       " 'PRCP_ATTRIBUTES',\n",
       " 'SNWD',\n",
       " 'SNWD_ATTRIBUTES',\n",
       " 'TMAX',\n",
       " 'TMAX_ATTRIBUTES',\n",
       " 'TMIN',\n",
       " 'TMIN_ATTRIBUTES',\n",
       " 'TAVG',\n",
       " 'TAVG_ATTRIBUTES']"
      ]
     },
     "metadata": {},
     "output_type": "display_data"
    },
    {
     "data": {
      "text/plain": [
       "True"
      ]
     },
     "execution_count": 254,
     "metadata": {},
     "output_type": "execute_result"
    }
   ],
   "source": [
    "retuired_columns = [\"DATE\", \"NAME\"]\n",
    "display(list(my_df.columns))\n",
    "\n",
    "set(retuired_columns).issubset(list(my_df.columns))"
   ]
  }
 ],
 "metadata": {
  "kernelspec": {
   "display_name": "Python 3 (ipykernel)",
   "language": "python",
   "name": "python3"
  },
  "language_info": {
   "codemirror_mode": {
    "name": "ipython",
    "version": 3
   },
   "file_extension": ".py",
   "mimetype": "text/x-python",
   "name": "python",
   "nbconvert_exporter": "python",
   "pygments_lexer": "ipython3",
   "version": "3.10.12"
  }
 },
 "nbformat": 4,
 "nbformat_minor": 5
}
