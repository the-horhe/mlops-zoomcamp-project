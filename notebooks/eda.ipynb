{
 "cells": [
  {
   "cell_type": "markdown",
   "id": "579117b2-ff84-4fab-b9ad-8c1c6a5f3f45",
   "metadata": {},
   "source": [
    "# Initial data exploration notebook"
   ]
  },
  {
   "cell_type": "code",
   "execution_count": 27,
   "id": "4098a54f-c104-4234-b23f-1c8933cf5c3f",
   "metadata": {},
   "outputs": [],
   "source": [
    "import pandas as pd\n",
    "import matplotlib.pyplot as plt"
   ]
  },
  {
   "cell_type": "code",
   "execution_count": 59,
   "id": "38c6ed08-23ed-4969-934c-6644dc7f43f5",
   "metadata": {},
   "outputs": [],
   "source": [
    "from sklearn.model_selection import train_test_split"
   ]
  },
  {
   "cell_type": "code",
   "execution_count": 6,
   "id": "97ed40ad-36ef-4b3f-a9df-67d1868bf7c2",
   "metadata": {},
   "outputs": [
    {
     "name": "stdout",
     "output_type": "stream",
     "text": [
      "\"STATION\",\"DATE\",\"LATITUDE\",\"LONGITUDE\",\"ELEVATION\",\"NAME\",\"PRCP\",\"PRCP_ATTRIBUTES\",\"SNWD\",\"SNWD_ATTRIBUTES\",\"TMAX\",\"TMAX_ATTRIBUTES\",\"TMIN\",\"TMIN_ATTRIBUTES\",\"TAVG\",\"TAVG_ATTRIBUTES\"\n",
      "\"SP000008181\",\"1924-03-01\",\"41.2928\",\"2.0697\",\"4.0\",\"BARCELONA AEROPUERTO, SP\",\"    0\",\",,E\",,,\"  120\",\",,E\",\"   10\",\",,E\",,\n",
      "\"SP000008181\",\"1924-03-02\",\"41.2928\",\"2.0697\",\"4.0\",\"BARCELONA AEROPUERTO, SP\",\"    0\",\",,E\",,,\"  120\",\",,E\",\"   20\",\",,E\",,\n",
      "\"SP000008181\",\"1924-03-03\",\"41.2928\",\"2.0697\",\"4.0\",\"BARCELONA AEROPUERTO, SP\",\"    0\",\",,E\",,,\"  200\",\",,E\",\"   30\",\",,E\",,\n",
      "\"SP000008181\",\"1924-03-04\",\"41.2928\",\"2.0697\",\"4.0\",\"BARCELONA AEROPUERTO, SP\",\"    0\",\",,E\",,,\"  225\",\",,E\",\"   50\",\",,E\",,\n",
      "\"SP000008181\",\"1924-03-05\",\"41.2928\",\"2.0697\",\"4.0\",\"BARCELONA AEROPUERTO, SP\",\"    0\",\",,E\",,,\"  190\",\",,E\",\"   60\",\",,E\",,\n",
      "\"SP000008181\",\"1924-03-06\",\"41.2928\",\"2.0697\",\"4.0\",\"BARCELONA AEROPUERTO, SP\",\"    0\",\",,E\",,,\"  200\",\",,E\",\"   60\",\",,E\",,\n",
      "\"SP000008181\",\"1924-03-07\",\"41.2928\",\"2.0697\",\"4.0\",\"BARCELONA AEROPUERTO, SP\",\"    7\",\",,E\",,,\"  160\",\",,E\",\"  110\",\",,E\",,\n",
      "\"SP000008181\",\"1924-03-08\",\"41.2928\",\"2.0697\",\"4.0\",\"BARCELONA AEROPUERTO, SP\",\"    0\",\",,E\",,,\"  175\",\",,E\",\"   50\",\",,E\",,\n",
      "\"SP000008181\",\"1924-03-09\",\"41.2928\",\"2.0697\",\"4.0\",\"BARCELONA AEROPUERTO, SP\",\"    0\",\",,E\",,,\"  150\",\",,E\",\"  100\",\",,E\",,\n"
     ]
    }
   ],
   "source": [
    "!head ../data/SP000008181.csv"
   ]
  },
  {
   "cell_type": "code",
   "execution_count": 68,
   "id": "bc7f8123-56b7-45e1-839e-2fc7b4d47c69",
   "metadata": {
    "scrolled": true
   },
   "outputs": [],
   "source": [
    "df = pd.read_csv(\"../data/SP000008181.csv\", low_memory=False)"
   ]
  },
  {
   "cell_type": "code",
   "execution_count": 69,
   "id": "a4e86952-cfb6-4d70-b3ab-3e10181191e6",
   "metadata": {},
   "outputs": [
    {
     "data": {
      "text/plain": [
       "STATION             object\n",
       "DATE                object\n",
       "LATITUDE           float64\n",
       "LONGITUDE          float64\n",
       "ELEVATION          float64\n",
       "NAME                object\n",
       "PRCP               float64\n",
       "PRCP_ATTRIBUTES     object\n",
       "SNWD               float64\n",
       "SNWD_ATTRIBUTES     object\n",
       "TMAX               float64\n",
       "TMAX_ATTRIBUTES     object\n",
       "TMIN               float64\n",
       "TMIN_ATTRIBUTES     object\n",
       "TAVG               float64\n",
       "TAVG_ATTRIBUTES     object\n",
       "dtype: object"
      ]
     },
     "execution_count": 69,
     "metadata": {},
     "output_type": "execute_result"
    }
   ],
   "source": [
    "df.dtypes"
   ]
  },
  {
   "cell_type": "code",
   "execution_count": 70,
   "id": "2afa84e8-89c7-4a95-a7f3-7a04e216adf7",
   "metadata": {},
   "outputs": [
    {
     "data": {
      "text/html": [
       "<div>\n",
       "<style scoped>\n",
       "    .dataframe tbody tr th:only-of-type {\n",
       "        vertical-align: middle;\n",
       "    }\n",
       "\n",
       "    .dataframe tbody tr th {\n",
       "        vertical-align: top;\n",
       "    }\n",
       "\n",
       "    .dataframe thead th {\n",
       "        text-align: right;\n",
       "    }\n",
       "</style>\n",
       "<table border=\"1\" class=\"dataframe\">\n",
       "  <thead>\n",
       "    <tr style=\"text-align: right;\">\n",
       "      <th></th>\n",
       "      <th>LATITUDE</th>\n",
       "      <th>LONGITUDE</th>\n",
       "      <th>ELEVATION</th>\n",
       "      <th>PRCP</th>\n",
       "      <th>SNWD</th>\n",
       "      <th>TMAX</th>\n",
       "      <th>TMIN</th>\n",
       "      <th>TAVG</th>\n",
       "    </tr>\n",
       "  </thead>\n",
       "  <tbody>\n",
       "    <tr>\n",
       "      <th>count</th>\n",
       "      <td>3.467100e+04</td>\n",
       "      <td>3.467100e+04</td>\n",
       "      <td>34671.0</td>\n",
       "      <td>34393.000000</td>\n",
       "      <td>2.000000</td>\n",
       "      <td>30738.000000</td>\n",
       "      <td>30555.000000</td>\n",
       "      <td>18798.000000</td>\n",
       "    </tr>\n",
       "    <tr>\n",
       "      <th>mean</th>\n",
       "      <td>4.129280e+01</td>\n",
       "      <td>2.069700e+00</td>\n",
       "      <td>4.0</td>\n",
       "      <td>15.544820</td>\n",
       "      <td>430.500000</td>\n",
       "      <td>203.847778</td>\n",
       "      <td>118.302340</td>\n",
       "      <td>160.353655</td>\n",
       "    </tr>\n",
       "    <tr>\n",
       "      <th>std</th>\n",
       "      <td>1.421106e-14</td>\n",
       "      <td>4.440956e-16</td>\n",
       "      <td>0.0</td>\n",
       "      <td>66.929501</td>\n",
       "      <td>580.534667</td>\n",
       "      <td>58.619100</td>\n",
       "      <td>60.529923</td>\n",
       "      <td>59.612488</td>\n",
       "    </tr>\n",
       "    <tr>\n",
       "      <th>min</th>\n",
       "      <td>4.129280e+01</td>\n",
       "      <td>2.069700e+00</td>\n",
       "      <td>4.0</td>\n",
       "      <td>0.000000</td>\n",
       "      <td>20.000000</td>\n",
       "      <td>0.000000</td>\n",
       "      <td>-80.000000</td>\n",
       "      <td>-21.000000</td>\n",
       "    </tr>\n",
       "    <tr>\n",
       "      <th>25%</th>\n",
       "      <td>4.129280e+01</td>\n",
       "      <td>2.069700e+00</td>\n",
       "      <td>4.0</td>\n",
       "      <td>0.000000</td>\n",
       "      <td>225.250000</td>\n",
       "      <td>156.000000</td>\n",
       "      <td>70.000000</td>\n",
       "      <td>112.000000</td>\n",
       "    </tr>\n",
       "    <tr>\n",
       "      <th>50%</th>\n",
       "      <td>4.129280e+01</td>\n",
       "      <td>2.069700e+00</td>\n",
       "      <td>4.0</td>\n",
       "      <td>0.000000</td>\n",
       "      <td>430.500000</td>\n",
       "      <td>200.000000</td>\n",
       "      <td>115.000000</td>\n",
       "      <td>154.000000</td>\n",
       "    </tr>\n",
       "    <tr>\n",
       "      <th>75%</th>\n",
       "      <td>4.129280e+01</td>\n",
       "      <td>2.069700e+00</td>\n",
       "      <td>4.0</td>\n",
       "      <td>0.000000</td>\n",
       "      <td>635.750000</td>\n",
       "      <td>254.000000</td>\n",
       "      <td>170.000000</td>\n",
       "      <td>213.000000</td>\n",
       "    </tr>\n",
       "    <tr>\n",
       "      <th>max</th>\n",
       "      <td>4.129280e+01</td>\n",
       "      <td>2.069700e+00</td>\n",
       "      <td>4.0</td>\n",
       "      <td>1867.000000</td>\n",
       "      <td>841.000000</td>\n",
       "      <td>374.000000</td>\n",
       "      <td>273.000000</td>\n",
       "      <td>303.000000</td>\n",
       "    </tr>\n",
       "  </tbody>\n",
       "</table>\n",
       "</div>"
      ],
      "text/plain": [
       "           LATITUDE     LONGITUDE  ELEVATION          PRCP        SNWD  \\\n",
       "count  3.467100e+04  3.467100e+04    34671.0  34393.000000    2.000000   \n",
       "mean   4.129280e+01  2.069700e+00        4.0     15.544820  430.500000   \n",
       "std    1.421106e-14  4.440956e-16        0.0     66.929501  580.534667   \n",
       "min    4.129280e+01  2.069700e+00        4.0      0.000000   20.000000   \n",
       "25%    4.129280e+01  2.069700e+00        4.0      0.000000  225.250000   \n",
       "50%    4.129280e+01  2.069700e+00        4.0      0.000000  430.500000   \n",
       "75%    4.129280e+01  2.069700e+00        4.0      0.000000  635.750000   \n",
       "max    4.129280e+01  2.069700e+00        4.0   1867.000000  841.000000   \n",
       "\n",
       "               TMAX          TMIN          TAVG  \n",
       "count  30738.000000  30555.000000  18798.000000  \n",
       "mean     203.847778    118.302340    160.353655  \n",
       "std       58.619100     60.529923     59.612488  \n",
       "min        0.000000    -80.000000    -21.000000  \n",
       "25%      156.000000     70.000000    112.000000  \n",
       "50%      200.000000    115.000000    154.000000  \n",
       "75%      254.000000    170.000000    213.000000  \n",
       "max      374.000000    273.000000    303.000000  "
      ]
     },
     "execution_count": 70,
     "metadata": {},
     "output_type": "execute_result"
    }
   ],
   "source": [
    "df.describe()"
   ]
  },
  {
   "cell_type": "code",
   "execution_count": 71,
   "id": "7045dc25-c206-42cb-b39f-df3ea43eaf47",
   "metadata": {},
   "outputs": [],
   "source": [
    "# prepare dataset\n",
    "df = df[[\"DATE\", \"PRCP\", \"PRCP_ATTRIBUTES\"]]\n",
    "df[\"DATE\"] = pd.to_datetime(df[\"DATE\"])"
   ]
  },
  {
   "cell_type": "code",
   "execution_count": 19,
   "id": "f7a659cd-4ffe-490c-b26e-aa99d4589114",
   "metadata": {
    "scrolled": true
   },
   "outputs": [
    {
     "data": {
      "text/plain": [
       "DATE               datetime64[ns]\n",
       "PRCP                      float64\n",
       "PRCP_ATTRIBUTES            object\n",
       "dtype: object"
      ]
     },
     "execution_count": 19,
     "metadata": {},
     "output_type": "execute_result"
    }
   ],
   "source": [
    "df.dtypes"
   ]
  },
  {
   "cell_type": "code",
   "execution_count": 72,
   "id": "9cfc8614-0969-45b2-9b0f-9013f6174b9a",
   "metadata": {
    "scrolled": true
   },
   "outputs": [
    {
     "data": {
      "text/plain": [
       "<Axes: >"
      ]
     },
     "execution_count": 72,
     "metadata": {},
     "output_type": "execute_result"
    },
    {
     "data": {
      "image/png": "[encoded data removed]",
      "text/plain": [
       "<Figure size 640x480 with 1 Axes>"
      ]
     },
     "metadata": {},
     "output_type": "display_data"
    }
   ],
   "source": [
    "df.PRCP.hist(bins=50)"
   ]
  },
  {
   "cell_type": "code",
   "execution_count": 73,
   "id": "4aee7af5-cb91-4786-aa2e-d56f2a351f3c",
   "metadata": {},
   "outputs": [
    {
     "data": {
      "text/plain": [
       "np.float64(1867.0)"
      ]
     },
     "execution_count": 73,
     "metadata": {},
     "output_type": "execute_result"
    }
   ],
   "source": [
    "df.PRCP.max()"
   ]
  },
  {
   "cell_type": "code",
   "execution_count": 74,
   "id": "b3421ecc-b115-424a-829c-3076f4f9e3e4",
   "metadata": {},
   "outputs": [
    {
     "data": {
      "text/plain": [
       "[<matplotlib.lines.Line2D at 0x7f6cd55b58d0>]"
      ]
     },
     "execution_count": 74,
     "metadata": {},
     "output_type": "execute_result"
    },
    {
     "data": {
      "image/png": "[encoded data removed]",
      "text/plain": [
       "<Figure size 640x480 with 1 Axes>"
      ]
     },
     "metadata": {},
     "output_type": "display_data"
    }
   ],
   "source": [
    "fig, ax = plt.subplots()\n",
    "ax.plot(df[\"DATE\"], df[\"PRCP\"])"
   ]
  },
  {
   "cell_type": "code",
   "execution_count": 78,
   "id": "b787dda2-2bb9-42d5-9bad-d3f428ccfb79",
   "metadata": {},
   "outputs": [],
   "source": [
    "df2 = df[(df[\"DATE\"] > \"1935-01-01\") & (df[\"DATE\"] < \"1940-01-01\")]"
   ]
  },
  {
   "cell_type": "code",
   "execution_count": 79,
   "id": "340e522a-f00b-4593-a38c-f51abaaffdaa",
   "metadata": {},
   "outputs": [
    {
     "data": {
      "text/plain": [
       "[<matplotlib.lines.Line2D at 0x7f6cd53450f0>]"
      ]
     },
     "execution_count": 79,
     "metadata": {},
     "output_type": "execute_result"
    },
    {
     "data": {
      "image/png": "[encoded data removed]",
      "text/plain": [
       "<Figure size 640x480 with 1 Axes>"
      ]
     },
     "metadata": {},
     "output_type": "display_data"
    }
   ],
   "source": [
    "fig, ax = plt.subplots()\n",
    "ax.plot(df2[\"DATE\"], df2[\"PRCP\"])"
   ]
  },
  {
   "cell_type": "code",
   "execution_count": 80,
   "id": "185f6dc3-1748-4af9-99de-210ea967ac10",
   "metadata": {},
   "outputs": [],
   "source": [
    "# There is big gap in data in 1939-1938 year\n",
    "df_clean = df[(df[\"DATE\"] > \"1939-01-01\")]"
   ]
  },
  {
   "cell_type": "code",
   "execution_count": 81,
   "id": "1fa1e3e0-b068-446a-9176-aecca3085cda",
   "metadata": {},
   "outputs": [],
   "source": [
    "train, test = train_test_split(df_clean, test_size=0.2)"
   ]
  },
  {
   "cell_type": "code",
   "execution_count": 84,
   "id": "70faef6d-b26b-4c88-a180-320fc17eb9ef",
   "metadata": {},
   "outputs": [
    {
     "data": {
      "text/html": [
       "<div>\n",
       "<style scoped>\n",
       "    .dataframe tbody tr th:only-of-type {\n",
       "        vertical-align: middle;\n",
       "    }\n",
       "\n",
       "    .dataframe tbody tr th {\n",
       "        vertical-align: top;\n",
       "    }\n",
       "\n",
       "    .dataframe thead th {\n",
       "        text-align: right;\n",
       "    }\n",
       "</style>\n",
       "<table border=\"1\" class=\"dataframe\">\n",
       "  <thead>\n",
       "    <tr style=\"text-align: right;\">\n",
       "      <th></th>\n",
       "      <th>DATE</th>\n",
       "      <th>PRCP</th>\n",
       "      <th>PRCP_ATTRIBUTES</th>\n",
       "    </tr>\n",
       "  </thead>\n",
       "  <tbody>\n",
       "    <tr>\n",
       "      <th>21546</th>\n",
       "      <td>1988-07-27</td>\n",
       "      <td>0.0</td>\n",
       "      <td>,,E</td>\n",
       "    </tr>\n",
       "    <tr>\n",
       "      <th>23102</th>\n",
       "      <td>1992-10-30</td>\n",
       "      <td>58.0</td>\n",
       "      <td>,,E</td>\n",
       "    </tr>\n",
       "    <tr>\n",
       "      <th>12944</th>\n",
       "      <td>1965-01-07</td>\n",
       "      <td>0.0</td>\n",
       "      <td>,,E</td>\n",
       "    </tr>\n",
       "    <tr>\n",
       "      <th>26701</th>\n",
       "      <td>2002-09-07</td>\n",
       "      <td>0.0</td>\n",
       "      <td>,,E</td>\n",
       "    </tr>\n",
       "    <tr>\n",
       "      <th>25991</th>\n",
       "      <td>2000-09-27</td>\n",
       "      <td>22.0</td>\n",
       "      <td>,,E</td>\n",
       "    </tr>\n",
       "    <tr>\n",
       "      <th>...</th>\n",
       "      <td>...</td>\n",
       "      <td>...</td>\n",
       "      <td>...</td>\n",
       "    </tr>\n",
       "    <tr>\n",
       "      <th>28440</th>\n",
       "      <td>2007-06-12</td>\n",
       "      <td>0.0</td>\n",
       "      <td>,,E</td>\n",
       "    </tr>\n",
       "    <tr>\n",
       "      <th>24895</th>\n",
       "      <td>1997-09-27</td>\n",
       "      <td>0.0</td>\n",
       "      <td>,,E</td>\n",
       "    </tr>\n",
       "    <tr>\n",
       "      <th>8547</th>\n",
       "      <td>1952-12-24</td>\n",
       "      <td>0.0</td>\n",
       "      <td>,,E</td>\n",
       "    </tr>\n",
       "    <tr>\n",
       "      <th>30353</th>\n",
       "      <td>2012-09-06</td>\n",
       "      <td>0.0</td>\n",
       "      <td>,,E</td>\n",
       "    </tr>\n",
       "    <tr>\n",
       "      <th>33991</th>\n",
       "      <td>2022-08-23</td>\n",
       "      <td>0.0</td>\n",
       "      <td>,,E</td>\n",
       "    </tr>\n",
       "  </tbody>\n",
       "</table>\n",
       "<p>6216 rows × 3 columns</p>\n",
       "</div>"
      ],
      "text/plain": [
       "            DATE  PRCP PRCP_ATTRIBUTES\n",
       "21546 1988-07-27   0.0             ,,E\n",
       "23102 1992-10-30  58.0             ,,E\n",
       "12944 1965-01-07   0.0             ,,E\n",
       "26701 2002-09-07   0.0             ,,E\n",
       "25991 2000-09-27  22.0             ,,E\n",
       "...          ...   ...             ...\n",
       "28440 2007-06-12   0.0             ,,E\n",
       "24895 1997-09-27   0.0             ,,E\n",
       "8547  1952-12-24   0.0             ,,E\n",
       "30353 2012-09-06   0.0             ,,E\n",
       "33991 2022-08-23   0.0             ,,E\n",
       "\n",
       "[6216 rows x 3 columns]"
      ]
     },
     "execution_count": 84,
     "metadata": {},
     "output_type": "execute_result"
    }
   ],
   "source": [
    "test"
   ]
  }
 ],
 "metadata": {
  "kernelspec": {
   "display_name": "Python 3 (ipykernel)",
   "language": "python",
   "name": "python3"
  },
  "language_info": {
   "codemirror_mode": {
    "name": "ipython",
    "version": 3
   },
   "file_extension": ".py",
   "mimetype": "text/x-python",
   "name": "python",
   "nbconvert_exporter": "python",
   "pygments_lexer": "ipython3",
   "version": "3.10.12"
  }
 },
 "nbformat": 4,
 "nbformat_minor": 5
}
